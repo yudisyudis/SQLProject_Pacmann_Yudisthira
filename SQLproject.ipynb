{
 "cells": [
  {
   "cell_type": "code",
   "execution_count": 2,
   "id": "33223009",
   "metadata": {},
   "outputs": [],
   "source": [
    "import sqlite3\n",
    "import pandas as pd"
   ]
  },
  {
   "cell_type": "code",
   "execution_count": 3,
   "id": "493756d6",
   "metadata": {},
   "outputs": [
    {
     "name": "stdout",
     "output_type": "stream",
     "text": [
      "[('olist_order_customer_dataset',), ('olist_order_dataset',), ('olist_order_reviews_dataset',), ('olist_order_payments_dataset',), ('olist_order_items_dataset',), ('olist_products_dataset',), ('olist_sellers_dataset',), ('olist_geolocation_dataset',), ('product_category_name_translation',)]\n"
     ]
    }
   ],
   "source": [
    "# creating file path\n",
    "dbfile = 'olist.db'\n",
    "# Create a SQL connection to our SQLite database\n",
    "con = sqlite3.connect(dbfile)\n",
    "\n",
    "# creating cursor\n",
    "cur = con.cursor()\n",
    "\n",
    "# reading all table names\n",
    "data = [a for a in cur.execute(\"SELECT name FROM sqlite_master WHERE type = 'table'\")]\n",
    "# here is you table list\n",
    "print(data)"
   ]
  },
  {
   "cell_type": "code",
   "execution_count": 18,
   "id": "75cacce4",
   "metadata": {},
   "outputs": [],
   "source": [
    "data_daerah = pd.read_sql_query('SELECT * FROM olist_geolocation_dataset', con)\n",
    "data_cust = pd.read_sql_query('SELECT * FROM olist_order_customer_dataset', con)\n",
    "data_order = pd.read_sql_query('SELECT * FROM olist_order_dataset', con)\n",
    "data_bayar = pd.read_sql_query('SELECT * FROM olist_order_payments_dataset', con)\n",
    "data_item = pd.read_sql_query('SELECT * FROM olist_order_items_dataset', con)\n",
    "data_review = pd.read_sql_query('SELECT * FROM olist_order_reviews_dataset', con)\n",
    "data_produk = pd.read_sql_query('SELECT * FROM olist_products_dataset', con)\n",
    "data_penjual = pd.read_sql_query('SELECT * FROM olist_sellers_dataset', con)\n",
    "data_terjemah = pd.read_sql_query('SELECT * FROM product_category_name_translation', con)"
   ]
  },
  {
   "cell_type": "code",
   "execution_count": 1,
   "id": "f65d51e6",
   "metadata": {},
   "outputs": [],
   "source": [
    "import pandas as pd\n",
    "import matplotlib.pyplot as plt\n",
    "import seaborn as sns\n",
    "import numpy as np"
   ]
  },
  {
   "cell_type": "code",
   "execution_count": 194,
   "id": "3c33615f",
   "metadata": {},
   "outputs": [],
   "source": [
    "data1 = pd.read_csv('data1.csv') #memenuhi objektif 1: barang terbanyak yang dijual\n",
    "data2 = pd.read_csv('data2.csv') #memenuhi objektif kedua, melihat segmentasi barang berdasarkan kota pembeli\n",
    "data3 = pd.read_csv('data3.csv') #memenuhi objektif ketiga, melihat segmentasi barang berdasarkan kota pembeli\n",
    "data4 = pd.read_csv('data4.csv') #memenuhi objektif ketiga, melihat korelasi waktu proses pembelian barang dengan rating review\n"
   ]
  },
  {
   "cell_type": "markdown",
   "id": "6c44b534",
   "metadata": {},
   "source": [
    "# MISSING VALUE"
   ]
  },
  {
   "cell_type": "code",
   "execution_count": 138,
   "id": "3a76eccc",
   "metadata": {},
   "outputs": [
    {
     "data": {
      "text/plain": [
       "waktu          0\n",
       "rerata_skor    0\n",
       "dtype: int64"
      ]
     },
     "execution_count": 138,
     "metadata": {},
     "output_type": "execute_result"
    }
   ],
   "source": [
    "#data 4 \n",
    "\n",
    "data4.isna().sum()\n",
    "data4.dropna(inplace=True)\n",
    "data4.isna().sum()"
   ]
  },
  {
   "cell_type": "code",
   "execution_count": 176,
   "id": "b3f00999",
   "metadata": {},
   "outputs": [
    {
     "data": {
      "text/plain": [
       "customer_city       0\n",
       "product_name        0\n",
       "jumlah_pembelian    0\n",
       "dtype: int64"
      ]
     },
     "execution_count": 176,
     "metadata": {},
     "output_type": "execute_result"
    }
   ],
   "source": [
    "#data 2\n",
    "\n",
    "data2.isna().sum()"
   ]
  },
  {
   "cell_type": "code",
   "execution_count": 10,
   "id": "826b5471",
   "metadata": {},
   "outputs": [
    {
     "data": {
      "text/plain": [
       "product_name        0\n",
       "jumlah_pembelian    0\n",
       "dtype: int64"
      ]
     },
     "execution_count": 10,
     "metadata": {},
     "output_type": "execute_result"
    }
   ],
   "source": [
    "data1.dropna(inplace=True)\n",
    "data1.isna().sum()\n"
   ]
  },
  {
   "cell_type": "markdown",
   "id": "81a55513",
   "metadata": {},
   "source": [
    "Pengolahan data2 untuk memperoleh data bersih yang siap divisualisasikan dan diintepretasikan"
   ]
  },
  {
   "cell_type": "code",
   "execution_count": 174,
   "id": "a308a036",
   "metadata": {},
   "outputs": [
    {
     "data": {
      "text/plain": [
       "sao paulo         62\n",
       "rio de janeiro     5\n",
       "diadema            1\n",
       "itapeva            1\n",
       "parauapebas        1\n",
       "brasilia           1\n",
       "Name: kota, dtype: int64"
      ]
     },
     "execution_count": 174,
     "metadata": {},
     "output_type": "execute_result"
    }
   ],
   "source": [
    "#membuat pivot table antara kota dan nama barang sebagai index dan kolom, dan jumlah pembelian sebagai values\n",
    "data2_pivot = data2.pivot_table(values='jumlah_pembelian', index='customer_city', columns='product_name', aggfunc='sum', fill_value=0) #fill_value untuk nilai NaN, margin untuk menampilkan all\n",
    "\n",
    "#melakukan for loop untuk memperoleh data tiap barang dengan penjualan tertinggi terdapat di kota apa saja\n",
    "kota = []\n",
    "barang = []\n",
    "nilai = []\n",
    "for i in data2_pivot.columns:\n",
    "    data2_final = data2_pivot.loc[data2_pivot[f'{i}'] == data2_pivot[f'{i}'].max(), f'{i}']\n",
    "    kota.append(data2_final.index[0])\n",
    "    barang.append(i)\n",
    "    nilai.append(data2_final[0])\n",
    "\n",
    "#pembuatan data baru yang terdiri dari kota tempat suatu barang terbanyak dibeli \n",
    "rekap_segmentasi = pd.DataFrame({'kota': kota,\n",
    "                   'barang': barang,\n",
    "                   'jumlah': nilai})\n",
    "\n",
    "#rekap lebih lanjut, merangkum dalam tiap kota terdapat berapa barang yang terjual paling banyak di kota tersebut\n",
    "rekap_segmentasi['kota'].value_counts()\n"
   ]
  },
  {
   "cell_type": "code",
   "execution_count": 197,
   "id": "1e020149",
   "metadata": {},
   "outputs": [
    {
     "data": {
      "text/plain": [
       "kota      0\n",
       "barang    0\n",
       "jumlah    0\n",
       "dtype: int64"
      ]
     },
     "execution_count": 197,
     "metadata": {},
     "output_type": "execute_result"
    }
   ],
   "source": [
    "#handle missing value data baru\n",
    "\n",
    "rekap_segmentasi.isna().sum()"
   ]
  },
  {
   "cell_type": "code",
   "execution_count": 67,
   "id": "24b8e540",
   "metadata": {},
   "outputs": [
    {
     "data": {
      "text/plain": [
       "Index(['abadia dos dourados', 'abadiania', 'abaete', 'abaetetuba', 'abaiara',\n",
       "       'abaira', 'abare', 'abatia', 'abdon batista', 'abelardo luz',\n",
       "       ...\n",
       "       'xanxere', 'xapuri', 'xavantina', 'xaxim', 'xexeu', 'xinguara',\n",
       "       'xique-xique', 'zacarias', 'ze doca', 'zortea'],\n",
       "      dtype='object', name='customer_city', length=4095)"
      ]
     },
     "execution_count": 67,
     "metadata": {},
     "output_type": "execute_result"
    }
   ],
   "source": [
    "data2_pivot.dropna(inplace=True)\n",
    "data2_pivot.isna().sum()\n",
    "data2_pivot.max()\n",
    "data2_pivot.index"
   ]
  },
  {
   "cell_type": "markdown",
   "id": "81798600",
   "metadata": {},
   "source": [
    "# DUPLICATED"
   ]
  },
  {
   "cell_type": "code",
   "execution_count": 140,
   "id": "33d0e684",
   "metadata": {},
   "outputs": [
    {
     "data": {
      "text/plain": [
       "0"
      ]
     },
     "execution_count": 140,
     "metadata": {},
     "output_type": "execute_result"
    }
   ],
   "source": [
    "data1.duplicated(keep=False).sum()\n",
    "data2.duplicated(keep=False).sum()\n",
    "data4.duplicated(keep=False).sum()"
   ]
  },
  {
   "cell_type": "markdown",
   "id": "aea54ffc",
   "metadata": {},
   "source": [
    "# OUTLIER "
   ]
  },
  {
   "cell_type": "markdown",
   "id": "25203ecc",
   "metadata": {},
   "source": [
    "data 2 (rekap_segmentasi)"
   ]
  },
  {
   "cell_type": "code",
   "execution_count": 177,
   "id": "f6100489",
   "metadata": {},
   "outputs": [
    {
     "data": {
      "text/plain": [
       "<AxesSubplot:xlabel='jumlah'>"
      ]
     },
     "execution_count": 177,
     "metadata": {},
     "output_type": "execute_result"
    },
    {
     "data": {
      "image/png": "[encoded data removed]",
      "text/plain": [
       "<Figure size 432x288 with 1 Axes>"
      ]
     },
     "metadata": {
      "needs_background": "light"
     },
     "output_type": "display_data"
    }
   ],
   "source": [
    "sns.boxplot(data = rekap_segmentasi, x=rekap_segmentasi['jumlah'])"
   ]
  },
  {
   "cell_type": "code",
   "execution_count": 178,
   "id": "077eca01",
   "metadata": {},
   "outputs": [
    {
     "name": "stdout",
     "output_type": "stream",
     "text": [
      "540.75\n",
      "54.0\n"
     ]
    },
    {
     "data": {
      "text/plain": [
       "<AxesSubplot:xlabel='jumlah'>"
      ]
     },
     "execution_count": 178,
     "metadata": {},
     "output_type": "execute_result"
    },
    {
     "data": {
      "image/png": "[encoded data removed]",
      "text/plain": [
       "<Figure size 432x288 with 1 Axes>"
      ]
     },
     "metadata": {
      "needs_background": "light"
     },
     "output_type": "display_data"
    }
   ],
   "source": [
    "batas_atas = rekap_segmentasi['jumlah'].quantile(q = 0.75) * 1.5\n",
    "median = rekap_segmentasi['jumlah'].median()\n",
    "print(batas_atas)\n",
    "print(median)\n",
    "rekap_segmentasi.loc[rekap_segmentasi['jumlah'] > batas_atas, 'jumlah'] = median\n",
    "sns.boxplot(data = rekap_segmentasi, x=rekap_segmentasi['jumlah'])"
   ]
  },
  {
   "cell_type": "code",
   "execution_count": 179,
   "id": "8d25128c",
   "metadata": {},
   "outputs": [
    {
     "name": "stdout",
     "output_type": "stream",
     "text": [
      "126.0\n",
      "54.0\n"
     ]
    },
    {
     "data": {
      "text/plain": [
       "<AxesSubplot:xlabel='jumlah'>"
      ]
     },
     "execution_count": 179,
     "metadata": {},
     "output_type": "execute_result"
    },
    {
     "data": {
      "image/png": "[encoded data removed]",
      "text/plain": [
       "<Figure size 432x288 with 1 Axes>"
      ]
     },
     "metadata": {
      "needs_background": "light"
     },
     "output_type": "display_data"
    }
   ],
   "source": [
    "batas_atas = rekap_segmentasi['jumlah'].quantile(q = 0.75) * 1.5\n",
    "median = rekap_segmentasi['jumlah'].median()\n",
    "print(batas_atas)\n",
    "print(median)\n",
    "rekap_segmentasi.loc[rekap_segmentasi['jumlah'] > batas_atas, 'jumlah'] = median\n",
    "sns.boxplot(data = rekap_segmentasi, x=rekap_segmentasi['jumlah'])"
   ]
  },
  {
   "cell_type": "code",
   "execution_count": 180,
   "id": "8ba699d7",
   "metadata": {},
   "outputs": [
    {
     "name": "stdout",
     "output_type": "stream",
     "text": [
      "81.0\n",
      "54.0\n"
     ]
    },
    {
     "data": {
      "text/plain": [
       "<AxesSubplot:xlabel='jumlah'>"
      ]
     },
     "execution_count": 180,
     "metadata": {},
     "output_type": "execute_result"
    },
    {
     "data": {
      "image/png": "[encoded data removed]",
      "text/plain": [
       "<Figure size 432x288 with 1 Axes>"
      ]
     },
     "metadata": {
      "needs_background": "light"
     },
     "output_type": "display_data"
    }
   ],
   "source": [
    "batas_atas = rekap_segmentasi['jumlah'].quantile(q = 0.75) * 1.5\n",
    "median = rekap_segmentasi['jumlah'].median()\n",
    "print(batas_atas)\n",
    "print(median)\n",
    "rekap_segmentasi.loc[rekap_segmentasi['jumlah'] > batas_atas, 'jumlah'] = median\n",
    "sns.boxplot(data = rekap_segmentasi, x=rekap_segmentasi['jumlah'])\n",
    "\n",
    "#data rekap_segmentasi perlu dilakukan penanganan outlier berulang agar benar benar menghilangkan seluruh outliernya"
   ]
  },
  {
   "cell_type": "markdown",
   "id": "c045740f",
   "metadata": {},
   "source": [
    "data 1 (jumlah_pembelian)"
   ]
  },
  {
   "cell_type": "code",
   "execution_count": 14,
   "id": "cd8899d7",
   "metadata": {},
   "outputs": [
    {
     "data": {
      "text/plain": [
       "<AxesSubplot:xlabel='jumlah_pembelian'>"
      ]
     },
     "execution_count": 14,
     "metadata": {},
     "output_type": "execute_result"
    },
    {
     "data": {
      "image/png": "[encoded data removed]",
      "text/plain": [
       "<Figure size 432x288 with 1 Axes>"
      ]
     },
     "metadata": {
      "needs_background": "light"
     },
     "output_type": "display_data"
    }
   ],
   "source": [
    "sns.boxplot(data = data1, x=data1['jumlah_pembelian'])"
   ]
  },
  {
   "cell_type": "code",
   "execution_count": 20,
   "id": "58515607",
   "metadata": {},
   "outputs": [
    {
     "data": {
      "text/plain": [
       "<AxesSubplot:xlabel='jumlah_pembelian'>"
      ]
     },
     "execution_count": 20,
     "metadata": {},
     "output_type": "execute_result"
    },
    {
     "data": {
      "image/png": "[encoded data removed]",
      "text/plain": [
       "<Figure size 432x288 with 1 Axes>"
      ]
     },
     "metadata": {
      "needs_background": "light"
     },
     "output_type": "display_data"
    }
   ],
   "source": [
    "batas_atas = data1['jumlah_pembelian'].quantile(q = 0.75) * 1.5\n",
    "median = data1['jumlah_pembelian'].median()\n",
    "# print(batas_atas)\n",
    "# print(median)\n",
    "data1.loc[data1['jumlah_pembelian'] > batas_atas, 'jumlah_pembelian'] = median\n",
    "sns.boxplot(data = data1, x=data1['jumlah_pembelian'])"
   ]
  },
  {
   "cell_type": "markdown",
   "id": "2d7b544c",
   "metadata": {},
   "source": [
    "data 3 (hubungan waktu dengan rerata skor)"
   ]
  },
  {
   "cell_type": "code",
   "execution_count": 150,
   "id": "20ce1694",
   "metadata": {},
   "outputs": [
    {
     "data": {
      "text/plain": [
       "<AxesSubplot:xlabel='rerata_skor'>"
      ]
     },
     "execution_count": 150,
     "metadata": {},
     "output_type": "execute_result"
    },
    {
     "data": {
      "image/png": "[encoded data removed]",
      "text/plain": [
       "<Figure size 1080x360 with 2 Axes>"
      ]
     },
     "metadata": {
      "needs_background": "light"
     },
     "output_type": "display_data"
    }
   ],
   "source": [
    "fig, ax = plt.subplots(1, 2, figsize=(15, 5))\n",
    "\n",
    "\n",
    "sns.boxplot(ax=ax[0], data = data4, x=data4['waktu'])\n",
    "sns.boxplot(ax=ax[1], data = data4, x=data4['rerata_skor'])"
   ]
  },
  {
   "cell_type": "code",
   "execution_count": 190,
   "id": "50bbbdeb",
   "metadata": {},
   "outputs": [],
   "source": [
    "rekap_segmentasi\n",
    "rekap_segmentasi.to_csv('data21_olah.csv', index=False)"
   ]
  },
  {
   "cell_type": "markdown",
   "id": "e0b63131",
   "metadata": {},
   "source": [
    "# INCONSISTENT"
   ]
  },
  {
   "cell_type": "code",
   "execution_count": 201,
   "id": "32b14f35",
   "metadata": {},
   "outputs": [
    {
     "name": "stdout",
     "output_type": "stream",
     "text": [
      "0                              bed_bath_table\n",
      "1                             furniture_decor\n",
      "2                               health_beauty\n",
      "3                              sports_leisure\n",
      "4                       computers_accessories\n",
      "5                                  housewares\n",
      "6                               watches_gifts\n",
      "7                                garden_tools\n",
      "8                                   telephony\n",
      "9                                        auto\n",
      "10                                       toys\n",
      "11                                 cool_stuff\n",
      "12                                  perfumery\n",
      "13                                       baby\n",
      "14                                electronics\n",
      "15                                 stationery\n",
      "16                           office_furniture\n",
      "17                                   pet_shop\n",
      "18                   fashion_bags_accessories\n",
      "19                                        NaN\n",
      "20            construction_tools_construction\n",
      "21                             consoles_games\n",
      "22                        luggage_accessories\n",
      "23                          home_construction\n",
      "24                            home_appliances\n",
      "25                        musical_instruments\n",
      "26                           small_appliances\n",
      "27                      furniture_living_room\n",
      "28                                       food\n",
      "29                     books_general_interest\n",
      "30                                     drinks\n",
      "31                               home_confort\n",
      "32                  construction_tools_lights\n",
      "33                                      audio\n",
      "34                               market_place\n",
      "35                            fixed_telephony\n",
      "36                                 food_drink\n",
      "37                           air_conditioning\n",
      "38    kitchen_dining_laundry_garden_furniture\n",
      "39             industry_commerce_and_business\n",
      "40                     signaling_and_security\n",
      "41                   costruction_tools_garden\n",
      "42                              fashion_shoes\n",
      "43                            books_technical\n",
      "44                 agro_industry_and_commerce\n",
      "45                  construction_tools_safety\n",
      "46                          home_appliances_2\n",
      "47                                  computers\n",
      "48                                        art\n",
      "49                         christmas_supplies\n",
      "50                      fashion_male_clothing\n",
      "51                    fashion_underwear_beach\n",
      "52                          furniture_bedroom\n",
      "53                    costruction_tools_tools\n",
      "54                     tablets_printing_image\n",
      "55                                 cine_photo\n",
      "56      small_appliances_home_oven_and_coffee\n",
      "57                               dvds_blu_ray\n",
      "58                             books_imported\n",
      "59                     fashio_female_clothing\n",
      "60                        diapers_and_hygiene\n",
      "61                             party_supplies\n",
      "62                                      music\n",
      "63                             home_comfort_2\n",
      "64          furniture_mattress_and_upholstery\n",
      "65                              fashion_sport\n",
      "66                                    flowers\n",
      "67                      arts_and_craftmanship\n",
      "68                                 la_cuisine\n",
      "69                          cds_dvds_musicals\n",
      "70                  fashion_childrens_clothes\n",
      "71                      security_and_services\n"
     ]
    }
   ],
   "source": [
    "#memeriksa potensi data inkonsisten di data1 kolom nama produk\n",
    "\n",
    "print(data1[\"product_name\"].to_string())"
   ]
  },
  {
   "cell_type": "code",
   "execution_count": 30,
   "id": "ad1b3ee4",
   "metadata": {},
   "outputs": [],
   "source": [
    "map_inkonsisten = {\n",
    "    'home_appliances_2': 'home_appliances',\n",
    "    'home_confort': 'home_comfort',\n",
    "    'home_comfort_2': 'home_comfort'\n",
    "}"
   ]
  },
  {
   "cell_type": "code",
   "execution_count": 168,
   "id": "fada4ecf",
   "metadata": {},
   "outputs": [
    {
     "name": "stdout",
     "output_type": "stream",
     "text": [
      "0                              bed_bath_table\n",
      "1                             furniture_decor\n",
      "2                               health_beauty\n",
      "3                              sports_leisure\n",
      "4                       computers_accessories\n",
      "5                                  housewares\n",
      "6                               watches_gifts\n",
      "7                                garden_tools\n",
      "8                                   telephony\n",
      "9                                        auto\n",
      "10                                       toys\n",
      "11                                 cool_stuff\n",
      "12                                  perfumery\n",
      "13                                       baby\n",
      "14                                electronics\n",
      "15                                 stationery\n",
      "16                           office_furniture\n",
      "17                                   pet_shop\n",
      "18                   fashion_bags_accessories\n",
      "20            construction_tools_construction\n",
      "21                             consoles_games\n",
      "22                        luggage_accessories\n",
      "23                          home_construction\n",
      "24                            home_appliances\n",
      "25                        musical_instruments\n",
      "26                           small_appliances\n",
      "27                      furniture_living_room\n",
      "28                                       food\n",
      "29                     books_general_interest\n",
      "30                                     drinks\n",
      "31                               home_comfort\n",
      "32                  construction_tools_lights\n",
      "33                                      audio\n",
      "34                               market_place\n",
      "35                            fixed_telephony\n",
      "36                                 food_drink\n",
      "37                           air_conditioning\n",
      "38    kitchen_dining_laundry_garden_furniture\n",
      "39             industry_commerce_and_business\n",
      "40                     signaling_and_security\n",
      "41                   costruction_tools_garden\n",
      "42                              fashion_shoes\n",
      "43                            books_technical\n",
      "44                 agro_industry_and_commerce\n",
      "45                  construction_tools_safety\n",
      "46                            home_appliances\n",
      "47                                  computers\n",
      "48                                        art\n",
      "49                         christmas_supplies\n",
      "50                      fashion_male_clothing\n",
      "51                    fashion_underwear_beach\n",
      "52                          furniture_bedroom\n",
      "53                    costruction_tools_tools\n",
      "54                     tablets_printing_image\n",
      "55                                 cine_photo\n",
      "56      small_appliances_home_oven_and_coffee\n",
      "57                               dvds_blu_ray\n",
      "58                             books_imported\n",
      "59                     fashio_female_clothing\n",
      "60                        diapers_and_hygiene\n",
      "61                             party_supplies\n",
      "62                                      music\n",
      "63                               home_comfort\n",
      "64          furniture_mattress_and_upholstery\n",
      "65                              fashion_sport\n",
      "66                                    flowers\n",
      "67                      arts_and_craftmanship\n",
      "68                                 la_cuisine\n",
      "69                          cds_dvds_musicals\n",
      "70                  fashion_childrens_clothes\n",
      "71                      security_and_services\n"
     ]
    }
   ],
   "source": [
    "data1[\"product_name\"].replace(map_inkonsisten)\n",
    "data1[\"product_name\"] = data1[\"product_name\"].replace(map_inkonsisten)\n",
    "print(data1[\"product_name\"].to_string())"
   ]
  },
  {
   "cell_type": "code",
   "execution_count": 169,
   "id": "c4a701ab",
   "metadata": {},
   "outputs": [
    {
     "data": {
      "text/html": [
       "<div>\n",
       "<style scoped>\n",
       "    .dataframe tbody tr th:only-of-type {\n",
       "        vertical-align: middle;\n",
       "    }\n",
       "\n",
       "    .dataframe tbody tr th {\n",
       "        vertical-align: top;\n",
       "    }\n",
       "\n",
       "    .dataframe thead th {\n",
       "        text-align: right;\n",
       "    }\n",
       "</style>\n",
       "<table border=\"1\" class=\"dataframe\">\n",
       "  <thead>\n",
       "    <tr style=\"text-align: right;\">\n",
       "      <th></th>\n",
       "      <th>product_name</th>\n",
       "      <th>jumlah_pembelian</th>\n",
       "    </tr>\n",
       "  </thead>\n",
       "  <tbody>\n",
       "    <tr>\n",
       "      <th>0</th>\n",
       "      <td>bed_bath_table</td>\n",
       "      <td>365</td>\n",
       "    </tr>\n",
       "    <tr>\n",
       "      <th>1</th>\n",
       "      <td>furniture_decor</td>\n",
       "      <td>365</td>\n",
       "    </tr>\n",
       "    <tr>\n",
       "      <th>2</th>\n",
       "      <td>health_beauty</td>\n",
       "      <td>365</td>\n",
       "    </tr>\n",
       "    <tr>\n",
       "      <th>3</th>\n",
       "      <td>sports_leisure</td>\n",
       "      <td>365</td>\n",
       "    </tr>\n",
       "    <tr>\n",
       "      <th>4</th>\n",
       "      <td>computers_accessories</td>\n",
       "      <td>365</td>\n",
       "    </tr>\n",
       "    <tr>\n",
       "      <th>...</th>\n",
       "      <td>...</td>\n",
       "      <td>...</td>\n",
       "    </tr>\n",
       "    <tr>\n",
       "      <th>67</th>\n",
       "      <td>arts_and_craftmanship</td>\n",
       "      <td>26</td>\n",
       "    </tr>\n",
       "    <tr>\n",
       "      <th>68</th>\n",
       "      <td>la_cuisine</td>\n",
       "      <td>16</td>\n",
       "    </tr>\n",
       "    <tr>\n",
       "      <th>69</th>\n",
       "      <td>cds_dvds_musicals</td>\n",
       "      <td>16</td>\n",
       "    </tr>\n",
       "    <tr>\n",
       "      <th>70</th>\n",
       "      <td>fashion_childrens_clothes</td>\n",
       "      <td>8</td>\n",
       "    </tr>\n",
       "    <tr>\n",
       "      <th>71</th>\n",
       "      <td>security_and_services</td>\n",
       "      <td>2</td>\n",
       "    </tr>\n",
       "  </tbody>\n",
       "</table>\n",
       "<p>71 rows × 2 columns</p>\n",
       "</div>"
      ],
      "text/plain": [
       "                 product_name  jumlah_pembelian\n",
       "0              bed_bath_table               365\n",
       "1             furniture_decor               365\n",
       "2               health_beauty               365\n",
       "3              sports_leisure               365\n",
       "4       computers_accessories               365\n",
       "..                        ...               ...\n",
       "67      arts_and_craftmanship                26\n",
       "68                 la_cuisine                16\n",
       "69          cds_dvds_musicals                16\n",
       "70  fashion_childrens_clothes                 8\n",
       "71      security_and_services                 2\n",
       "\n",
       "[71 rows x 2 columns]"
      ]
     },
     "execution_count": 169,
     "metadata": {},
     "output_type": "execute_result"
    }
   ],
   "source": [
    "data1"
   ]
  },
  {
   "cell_type": "code",
   "execution_count": 170,
   "id": "54179cf6",
   "metadata": {},
   "outputs": [],
   "source": [
    "data1.to_csv('data1_olah.csv', index=False)"
   ]
  },
  {
   "cell_type": "code",
   "execution_count": 191,
   "id": "3e5e4145",
   "metadata": {},
   "outputs": [],
   "source": [
    "data4.to_csv('data4_olah.csv', index=False)"
   ]
  },
  {
   "cell_type": "code",
   "execution_count": 192,
   "id": "01b6e093",
   "metadata": {},
   "outputs": [
    {
     "data": {
      "text/html": [
       "<div>\n",
       "<style scoped>\n",
       "    .dataframe tbody tr th:only-of-type {\n",
       "        vertical-align: middle;\n",
       "    }\n",
       "\n",
       "    .dataframe tbody tr th {\n",
       "        vertical-align: top;\n",
       "    }\n",
       "\n",
       "    .dataframe thead th {\n",
       "        text-align: right;\n",
       "    }\n",
       "</style>\n",
       "<table border=\"1\" class=\"dataframe\">\n",
       "  <thead>\n",
       "    <tr style=\"text-align: right;\">\n",
       "      <th></th>\n",
       "      <th>kota</th>\n",
       "      <th>barang</th>\n",
       "      <th>jumlah</th>\n",
       "    </tr>\n",
       "  </thead>\n",
       "  <tbody>\n",
       "    <tr>\n",
       "      <th>0</th>\n",
       "      <td>sao paulo</td>\n",
       "      <td>agro_industry_and_commerce</td>\n",
       "      <td>52</td>\n",
       "    </tr>\n",
       "    <tr>\n",
       "      <th>1</th>\n",
       "      <td>rio de janeiro</td>\n",
       "      <td>air_conditioning</td>\n",
       "      <td>50</td>\n",
       "    </tr>\n",
       "    <tr>\n",
       "      <th>2</th>\n",
       "      <td>sao paulo</td>\n",
       "      <td>art</td>\n",
       "      <td>34</td>\n",
       "    </tr>\n",
       "    <tr>\n",
       "      <th>3</th>\n",
       "      <td>diadema</td>\n",
       "      <td>arts_and_craftmanship</td>\n",
       "      <td>3</td>\n",
       "    </tr>\n",
       "    <tr>\n",
       "      <th>4</th>\n",
       "      <td>sao paulo</td>\n",
       "      <td>audio</td>\n",
       "      <td>66</td>\n",
       "    </tr>\n",
       "    <tr>\n",
       "      <th>...</th>\n",
       "      <td>...</td>\n",
       "      <td>...</td>\n",
       "      <td>...</td>\n",
       "    </tr>\n",
       "    <tr>\n",
       "      <th>66</th>\n",
       "      <td>sao paulo</td>\n",
       "      <td>stationery</td>\n",
       "      <td>54</td>\n",
       "    </tr>\n",
       "    <tr>\n",
       "      <th>67</th>\n",
       "      <td>sao paulo</td>\n",
       "      <td>tablets_printing_image</td>\n",
       "      <td>10</td>\n",
       "    </tr>\n",
       "    <tr>\n",
       "      <th>68</th>\n",
       "      <td>sao paulo</td>\n",
       "      <td>telephony</td>\n",
       "      <td>54</td>\n",
       "    </tr>\n",
       "    <tr>\n",
       "      <th>69</th>\n",
       "      <td>sao paulo</td>\n",
       "      <td>toys</td>\n",
       "      <td>54</td>\n",
       "    </tr>\n",
       "    <tr>\n",
       "      <th>70</th>\n",
       "      <td>sao paulo</td>\n",
       "      <td>watches_gifts</td>\n",
       "      <td>54</td>\n",
       "    </tr>\n",
       "  </tbody>\n",
       "</table>\n",
       "<p>71 rows × 3 columns</p>\n",
       "</div>"
      ],
      "text/plain": [
       "              kota                      barang  jumlah\n",
       "0        sao paulo  agro_industry_and_commerce      52\n",
       "1   rio de janeiro            air_conditioning      50\n",
       "2        sao paulo                         art      34\n",
       "3          diadema       arts_and_craftmanship       3\n",
       "4        sao paulo                       audio      66\n",
       "..             ...                         ...     ...\n",
       "66       sao paulo                  stationery      54\n",
       "67       sao paulo      tablets_printing_image      10\n",
       "68       sao paulo                   telephony      54\n",
       "69       sao paulo                        toys      54\n",
       "70       sao paulo               watches_gifts      54\n",
       "\n",
       "[71 rows x 3 columns]"
      ]
     },
     "execution_count": 192,
     "metadata": {},
     "output_type": "execute_result"
    }
   ],
   "source": [
    "rekap_segmentasi"
   ]
  }
 ],
 "metadata": {
  "kernelspec": {
   "display_name": "Python 3 (ipykernel)",
   "language": "python",
   "name": "python3"
  },
  "language_info": {
   "codemirror_mode": {
    "name": "ipython",
    "version": 3
   },
   "file_extension": ".py",
   "mimetype": "text/x-python",
   "name": "python",
   "nbconvert_exporter": "python",
   "pygments_lexer": "ipython3",
   "version": "3.9.12"
  }
 },
 "nbformat": 4,
 "nbformat_minor": 5
}
